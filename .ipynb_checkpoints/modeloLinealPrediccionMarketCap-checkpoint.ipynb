{
 "cells": [
  {
   "cell_type": "code",
   "execution_count": 1,
   "id": "08fd81f2",
   "metadata": {},
   "outputs": [],
   "source": [
    "import yfinance as yf\n",
    "from datetime import datetime, timedelta\n",
    "from statsmodels.graphics.tsaplots import plot_acf, plot_pacf\n",
    "from statsmodels.tsa.arima_model import ARIMA\n",
    "from tqdm import tqdm\n",
    "import pandas as pd\n",
    "from statsmodels.tools.sm_exceptions import ValueWarning, HessianInversionWarning, ConvergenceWarning\n",
    "import warnings\n",
    "import pymc3 as pm\n",
    "import numpy as np\n",
    "import matplotlib.pyplot as plt\n",
    "import seaborn as sns\n",
    "import statsmodels.api as sm\n",
    "from statsmodels.tsa.stattools import adfuller\n",
    "from pandasgui import show\n",
    "from sklearn.impute import SimpleImputer\n",
    "from sklearn.impute import KNNImputer\n",
    "from sklearn.model_selection import train_test_split"
   ]
  },
  {
   "cell_type": "code",
   "execution_count": 2,
   "id": "b550b7e1",
   "metadata": {},
   "outputs": [],
   "source": [
    "dfInfoEmpresas = pd.read_csv('informationCompanies.csv')"
   ]
  },
  {
   "cell_type": "code",
   "execution_count": 3,
   "id": "d24d0fca",
   "metadata": {},
   "outputs": [],
   "source": [
    "dfInfoEmpresas = dfInfoEmpresas[dfInfoEmpresas['fullTimeEmployees'].notna()]\n",
    "dfInfoEmpresas =dfInfoEmpresas.drop(['lastSplitFactor', 'lastSplitDate',\n",
    "                     'fiveYearAvgDividendYield','dividendRate',\n",
    "                     'dividendYield','industrySymbol',\n",
    "                     'address2','trailingPegRatio',\n",
    "                     'lastDividendDate', 'maxAge', 'previousClose', 'open', \n",
    "                    'dayLow', 'dayHigh', 'regularMarketPreviousClose',\n",
    "                    'regularMarketOpen',  'regularMarketDayLow',\n",
    "                    'regularMarketDayHigh', 'trailingPE', \n",
    "                    'governanceEpochDate', 'compensationAsOfEpochDate',\n",
    "                    'gmtOffSetMilliseconds'], axis=1)"
   ]
  },
  {
   "cell_type": "code",
   "execution_count": 4,
   "id": "00823faa",
   "metadata": {},
   "outputs": [],
   "source": [
    "nombres = dfInfoEmpresas[['symbol','shortName']]"
   ]
  },
  {
   "cell_type": "code",
   "execution_count": 5,
   "id": "ce58e8a6",
   "metadata": {},
   "outputs": [],
   "source": [
    "nombres"
   ]
  },
  {
   "cell_type": "code",
   "execution_count": 6,
   "id": "eabcfdbb",
   "metadata": {},
   "outputs": [],
   "source": [
    "dfInfoEmpresas = dfInfoEmpresas.drop(['symbol','shortName'], axis=1)"
   ]
  },
  {
   "cell_type": "code",
   "execution_count": 7,
   "id": "a60d3fcd",
   "metadata": {},
   "outputs": [],
   "source": [
    "dfInfoEmpresas"
   ]
  },
  {
   "cell_type": "code",
   "execution_count": 8,
   "id": "48d94a05",
   "metadata": {
    "scrolled": true
   },
   "outputs": [],
   "source": [
    "show(dfInfoEmpresas)"
   ]
  },
  {
   "cell_type": "code",
   "execution_count": 9,
   "id": "50acfef1",
   "metadata": {},
   "outputs": [],
   "source": [
    "print((((dfInfoEmpresas).isna()).sum()).to_string())"
   ]
  },
  {
   "cell_type": "code",
   "execution_count": 10,
   "id": "680d6d32",
   "metadata": {},
   "outputs": [],
   "source": [
    "imputer = KNNImputer(n_neighbors=100)"
   ]
  },
  {
   "cell_type": "code",
   "execution_count": 11,
   "id": "cd1fc507",
   "metadata": {},
   "outputs": [],
   "source": [
    "dfImputado = imputer.fit_transform(dfInfoEmpresas)"
   ]
  },
  {
   "cell_type": "code",
   "execution_count": 12,
   "id": "bc9c62ec",
   "metadata": {},
   "outputs": [],
   "source": [
    "nombreColumnas = list(dfInfoEmpresas.columns)"
   ]
  },
  {
   "cell_type": "code",
   "execution_count": 13,
   "id": "f667339e",
   "metadata": {},
   "outputs": [],
   "source": [
    "dfImputado = pd.DataFrame(dfImputado, columns = nombreColumnas)"
   ]
  },
  {
   "cell_type": "code",
   "execution_count": 14,
   "id": "b8da70c6",
   "metadata": {},
   "outputs": [],
   "source": [
    "marketCap = dfImputado[['marketCap']]\n",
    "logMarketCap = np.log2(marketCap)\n",
    "dfImputadoX = dfImputado.drop(['marketCap'], axis=1)"
   ]
  },
  {
   "cell_type": "code",
   "execution_count": 15,
   "id": "e7ea44eb",
   "metadata": {},
   "outputs": [],
   "source": [
    "X_train, X_test, y_train, y_test = train_test_split(dfImputadoX, logMarketCap, test_size=0.2, random_state=42)"
   ]
  },
  {
   "cell_type": "code",
   "execution_count": 16,
   "id": "9f1b9a7b",
   "metadata": {},
   "outputs": [],
   "source": [
    "with pm.Model() as model:\n",
    "    betas = pm.Normal('betas', mu=1, sigma=500, shape=83)\n",
    "\n",
    "    # model error\n",
    "    sigma = pm.Exponential(\"sigma\", lam=1/100)\n",
    "\n",
    "    # matrix-dot products\n",
    "    m1 = pm.math.matrix_dot(X_train, betas)\n",
    "\n",
    "    # Likelihood: Normal\n",
    "    y = pm.Normal(\"y\",\n",
    "                  mu=m1,\n",
    "                  sigma=sigma,\n",
    "                  observed=y_train\n",
    "                  )\n",
    "\n",
    "    trace = pm.sample(1000, tune=100)"
   ]
  },
  {
   "cell_type": "code",
   "execution_count": null,
   "id": "6f32fee8",
   "metadata": {},
   "outputs": [],
   "source": [
    "    \n",
    "plt.figure(figsize=(7, 7))\n",
    "pm.traceplot(trace)\n",
    "plt.tight_layout()"
   ]
  }
 ],
 "metadata": {
  "kernelspec": {
   "display_name": "Python 3 (ipykernel)",
   "language": "python",
   "name": "python3"
  },
  "language_info": {
   "codemirror_mode": {
    "name": "ipython",
    "version": 3
   },
   "file_extension": ".py",
   "mimetype": "text/x-python",
   "name": "python",
   "nbconvert_exporter": "python",
   "pygments_lexer": "ipython3",
   "version": "3.9.13"
  }
 },
 "nbformat": 4,
 "nbformat_minor": 5
}
