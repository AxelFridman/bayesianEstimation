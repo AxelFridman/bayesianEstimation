{
 "cells": [
  {
   "cell_type": "code",
   "execution_count": 115,
   "id": "32376697",
   "metadata": {},
   "outputs": [],
   "source": [
    "import yfinance as yf\n",
    "from datetime import datetime, timedelta\n",
    "from statsmodels.graphics.tsaplots import plot_acf, plot_pacf\n",
    "from statsmodels.tsa.arima_model import ARIMA\n",
    "from tqdm import tqdm\n",
    "import pandas as pd\n",
    "from statsmodels.tools.sm_exceptions import ValueWarning, HessianInversionWarning, ConvergenceWarning\n",
    "import warnings\n",
    "import pymc3 as pm\n",
    "import numpy as np\n",
    "import matplotlib.pyplot as plt\n",
    "import seaborn as sns\n",
    "import statsmodels.api as sm\n",
    "from statsmodels.tsa.stattools import adfuller\n",
    "from pandasgui import show"
   ]
  },
  {
   "cell_type": "code",
   "execution_count": 73,
   "id": "c69b4707",
   "metadata": {},
   "outputs": [],
   "source": [
    "def removeKeysFromDictionary(aStockInfoDict):\n",
    "    sacarVariables = ['companyOfficers','address1','city','state','zip','country','phone','fax','website','currency',\n",
    "                 'exchange',\n",
    "                 'quoteType',\n",
    "                 'symbol',\n",
    "                 'underlyingSymbol',\n",
    "                 #'shortName',\n",
    "                 'longName',\n",
    "                 'firstTradeDateEpochUtc',\n",
    "                 'timeZoneFullName',\n",
    "                 'timeZoneShortName',\n",
    "                 'uuid',\n",
    "                 'messageBoardId',\n",
    "                'industry',\n",
    "                 'industryDisp',\n",
    "                 'sector',\n",
    "                 'longBusinessSummary', 'recommendationKey', 'financialCurrency']\n",
    "   \n",
    "    test_dict = {key: aStockInfoDict[key]\n",
    "             for key in aStockInfoDict if key not in sacarVariables}\n",
    " \n",
    "    #[aStockInfoDict.pop(key) for key in sacarVariables]\n",
    "    return(test_dict)\n",
    "\n",
    "    "
   ]
  },
  {
   "cell_type": "code",
   "execution_count": 74,
   "id": "06bc1888",
   "metadata": {},
   "outputs": [],
   "source": [
    "def makeDataFrameFromSymbol(symbol):\n",
    "    data = yf.Ticker(symbol)\n",
    "    info = data.info\n",
    "    info =removeKeysFromDictionary(info)\n",
    "    dfInfo = pd.DataFrame.from_dict([info])\n",
    "    return(dfInfo)"
   ]
  },
  {
   "cell_type": "code",
   "execution_count": 144,
   "id": "c1a81746",
   "metadata": {},
   "outputs": [],
   "source": [
    "dfGoogle = makeDataFrameFromSymbol('GOOGL')\n",
    "dfApple = makeDataFrameFromSymbol('AAPL')\n",
    "dfMicrosoft = makeDataFrameFromSymbol('MSFT')"
   ]
  },
  {
   "cell_type": "code",
   "execution_count": 179,
   "id": "0ceb413c",
   "metadata": {},
   "outputs": [],
   "source": [
    "def makeDataFrameFromSymbols(listOfSymbols):\n",
    "    result = makeDataFrameFromSymbol(listOfSymbols[0])\n",
    "    for symbol in listOfSymbols[1:]:\n",
    "        result = pd.concat([result, makeDataFrameFromSymbol(symbol)], axis=0, ignore_index=True)\n",
    "    column_name = 'shortName'\n",
    "    column = result.pop(column_name)\n",
    "    result.insert(0, column_name, column)\n",
    "    return(result)"
   ]
  },
  {
   "cell_type": "code",
   "execution_count": 180,
   "id": "eb77ce1d",
   "metadata": {},
   "outputs": [],
   "source": [
    "dflist = makeDataFrameFromSymbols([\"MSFT\",\"AAPL\",\"GOOGL\"])"
   ]
  },
  {
   "cell_type": "code",
   "execution_count": 189,
   "id": "2cec9e19",
   "metadata": {},
   "outputs": [],
   "source": [
    "tickers = pd.read_html(\n",
    "    'https://en.wikipedia.org/wiki/List_of_S%26P_500_companies')[0]"
   ]
  },
  {
   "cell_type": "code",
   "execution_count": 188,
   "id": "3bdb4fb8",
   "metadata": {},
   "outputs": [],
   "source": [
    "simbolosSp500 = tickers['Symbol']"
   ]
  },
  {
   "cell_type": "code",
   "execution_count": null,
   "id": "fa235bd0",
   "metadata": {},
   "outputs": [],
   "source": [
    "dflist = makeDataFrameFromSymbols(simbolosSp500)"
   ]
  },
  {
   "cell_type": "code",
   "execution_count": null,
   "id": "e3b00a35",
   "metadata": {},
   "outputs": [],
   "source": []
  },
  {
   "cell_type": "code",
   "execution_count": 143,
   "id": "e99b52d5",
   "metadata": {},
   "outputs": [
    {
     "name": "stdout",
     "output_type": "stream",
     "text": [
      "APPL: No data found for this date range, symbol may be delisted\n"
     ]
    }
   ],
   "source": [
    "#msft = \"MSFT\"\n",
    "datamsft = yf.Ticker(\"AAPL\")\n",
    "precios = datamsft.history(start='2023-01-01', end=None).Close\n",
    "shares = datamsft.get_shares_full(start=\"2023-01-01\", end=None)"
   ]
  },
  {
   "cell_type": "code",
   "execution_count": null,
   "id": "1cb53490",
   "metadata": {},
   "outputs": [],
   "source": [
    "infomsft['marketCap']"
   ]
  },
  {
   "cell_type": "code",
   "execution_count": null,
   "id": "c65bc167",
   "metadata": {},
   "outputs": [],
   "source": [
    "dfPrecios = precios.to_frame(\"precios\")\n",
    "dfShares = shares.to_frame(\"shares\")\n",
    "dfShares['Date'] = dfShares.index\n"
   ]
  },
  {
   "cell_type": "code",
   "execution_count": null,
   "id": "b0dc944c",
   "metadata": {},
   "outputs": [],
   "source": [
    "(dfShares)"
   ]
  },
  {
   "cell_type": "code",
   "execution_count": null,
   "id": "4474c854",
   "metadata": {},
   "outputs": [],
   "source": [
    "marketCap = precios * shares\n"
   ]
  },
  {
   "cell_type": "code",
   "execution_count": null,
   "id": "bd952426",
   "metadata": {},
   "outputs": [],
   "source": [
    "dfLef = pd.merge(dfPrecios,dfShares, on='Date', how='outter')\n"
   ]
  },
  {
   "cell_type": "code",
   "execution_count": null,
   "id": "2580b1c1",
   "metadata": {},
   "outputs": [],
   "source": [
    "dfLef[\"shares\"].count()"
   ]
  },
  {
   "cell_type": "code",
   "execution_count": null,
   "id": "5b66b9d0",
   "metadata": {},
   "outputs": [],
   "source": [
    "datamsft.cashflow"
   ]
  },
  {
   "cell_type": "code",
   "execution_count": null,
   "id": "ea2bf8bc",
   "metadata": {},
   "outputs": [],
   "source": [
    "\n",
    "# get all stock info\n",
    "msft.info\n",
    "\n",
    "# get historical market data\n",
    "hist = msft.history(period=\"1mo\")\n",
    "\n",
    "# show meta information about the history (requires history() to be called first)\n",
    "msft.history_metadata\n",
    "\n",
    "# show actions (dividends, splits, capital gains)\n",
    "msft.actions\n",
    "msft.dividends\n",
    "msft.splits\n",
    "msft.capital_gains  # only for mutual funds & etfs\n",
    "\n",
    "# show share count\n",
    "# - yearly summary:\n",
    "msft.shares\n",
    "# - accurate time-series count:\n",
    "msft.get_shares_full(start=\"2022-01-01\", end=None)\n",
    "\n",
    "# show financials:\n",
    "# - income statement\n",
    "msft.income_stmt\n",
    "msft.quarterly_income_stmt\n",
    "# - balance sheet\n",
    "msft.balance_sheet\n",
    "msft.quarterly_balance_sheet\n",
    "# - cash flow statement\n",
    "msft.cashflow\n",
    "msft.quarterly_cashflow\n",
    "# see `Ticker.get_income_stmt()` for more options\n",
    "\n",
    "# show holders\n",
    "msft.major_holders\n",
    "msft.institutional_holders\n",
    "msft.mutualfund_holders\n",
    "\n",
    "# show earnings\n",
    "msft.earnings\n",
    "msft.quarterly_earnings\n",
    "\n",
    "# show sustainability\n",
    "msft.sustainability\n",
    "\n",
    "# show analysts recommendations\n",
    "msft.recommendations\n",
    "msft.recommendations_summary\n",
    "# show analysts other work\n",
    "msft.analyst_price_target\n",
    "msft.revenue_forecasts\n",
    "msft.earnings_forecasts\n",
    "msft.earnings_trend\n",
    "\n",
    "# show next event (earnings, etc)\n",
    "msft.calendar\n",
    "\n",
    "# Show future and historic earnings dates, returns at most next 4 quarters and last 8 quarters by default. \n",
    "# Note: If more are needed use msft.get_earnings_dates(limit=XX) with increased limit argument.\n",
    "msft.earnings_dates\n",
    "\n",
    "# show ISIN code - *experimental*\n",
    "# ISIN = International Securities Identification Number\n",
    "msft.isin\n",
    "\n",
    "# show options expirations\n",
    "msft.options\n",
    "\n",
    "# show news\n",
    "msft.news\n",
    "\n",
    "# get option chain for specific expiration\n",
    "opt = msft.option_chain('YYYY-MM-DD')\n",
    "# data available via: opt.calls, opt.puts"
   ]
  },
  {
   "cell_type": "code",
   "execution_count": null,
   "id": "1bba68f6",
   "metadata": {},
   "outputs": [],
   "source": [
    "import pandas_datareader as web\n",
    "\n",
    "tickers=[\"AAPL\",\"GOOG\",\"RY\",\"HPQ\"]\n",
    "\n",
    "# Get market cap (not really necessary for you)\n",
    "market_cap_data = web.get_quote_yahoo(tickers)['marketCap']"
   ]
  },
  {
   "cell_type": "code",
   "execution_count": null,
   "id": "1e637f2c",
   "metadata": {},
   "outputs": [],
   "source": []
  }
 ],
 "metadata": {
  "kernelspec": {
   "display_name": "Python 3 (ipykernel)",
   "language": "python",
   "name": "python3"
  },
  "language_info": {
   "codemirror_mode": {
    "name": "ipython",
    "version": 3
   },
   "file_extension": ".py",
   "mimetype": "text/x-python",
   "name": "python",
   "nbconvert_exporter": "python",
   "pygments_lexer": "ipython3",
   "version": "3.9.13"
  }
 },
 "nbformat": 4,
 "nbformat_minor": 5
}
