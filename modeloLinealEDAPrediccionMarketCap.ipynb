{
 "cells": [
  {
   "cell_type": "code",
   "execution_count": 1,
   "id": "95bd455b",
   "metadata": {},
   "outputs": [
    {
     "name": "stdout",
     "output_type": "stream",
     "text": [
      "WARN: Could not locate executable g77\n",
      "WARN: Could not locate executable f77\n",
      "WARN: Could not locate executable ifort\n",
      "WARN: Could not locate executable ifl\n",
      "WARN: Could not locate executable f90\n",
      "WARN: Could not locate executable DF\n",
      "WARN: Could not locate executable efl\n"
     ]
    },
    {
     "name": "stderr",
     "output_type": "stream",
     "text": [
      "WARNING (theano.tensor.blas): Using NumPy C-API based implementation for BLAS functions.\n"
     ]
    }
   ],
   "source": [
    "import yfinance as yf\n",
    "from datetime import datetime, timedelta\n",
    "from statsmodels.graphics.tsaplots import plot_acf, plot_pacf\n",
    "from statsmodels.tsa.arima_model import ARIMA\n",
    "from tqdm import tqdm\n",
    "import pandas as pd\n",
    "from statsmodels.tools.sm_exceptions import ValueWarning, HessianInversionWarning, ConvergenceWarning\n",
    "import warnings\n",
    "import pymc3 as pm\n",
    "import numpy as np\n",
    "import matplotlib.pyplot as plt\n",
    "import seaborn as sns\n",
    "import statsmodels.api as sm\n",
    "from statsmodels.tsa.stattools import adfuller\n",
    "from pandasgui import show"
   ]
  },
  {
   "cell_type": "code",
   "execution_count": 2,
   "id": "5dff6f47",
   "metadata": {},
   "outputs": [],
   "source": [
    "def removeKeysFromDictionary(aStockInfoDict):\n",
    "    sacarVariables = ['companyOfficers','address1','city','state','zip','country','phone','fax','website','currency',\n",
    "                 'exchange',\n",
    "                 'quoteType',\n",
    "                 #'symbol',\n",
    "                 'underlyingSymbol',\n",
    "                 #'shortName',\n",
    "                 'longName',\n",
    "                 'firstTradeDateEpochUtc',\n",
    "                 'timeZoneFullName',\n",
    "                 'timeZoneShortName',\n",
    "                 'uuid',\n",
    "                 'messageBoardId',\n",
    "                'industry',\n",
    "                 'industryDisp',\n",
    "                 'sector',\n",
    "                 'longBusinessSummary', 'recommendationKey', 'financialCurrency']\n",
    "   \n",
    "    test_dict = {key: aStockInfoDict[key]\n",
    "             for key in aStockInfoDict if key not in sacarVariables}\n",
    " \n",
    "    #[aStockInfoDict.pop(key) for key in sacarVariables]\n",
    "    return(test_dict)\n",
    "\n",
    "    "
   ]
  },
  {
   "cell_type": "code",
   "execution_count": 3,
   "id": "32127e70",
   "metadata": {},
   "outputs": [],
   "source": [
    "def makeDataFrameFromSymbol(symbol):\n",
    "    data = yf.Ticker(symbol)\n",
    "    info = data.info\n",
    "    info =removeKeysFromDictionary(info)\n",
    "    dfInfo = pd.DataFrame.from_dict([info])\n",
    "    return(dfInfo)"
   ]
  },
  {
   "cell_type": "code",
   "execution_count": 4,
   "id": "49eab1bd",
   "metadata": {},
   "outputs": [],
   "source": [
    "dfGoogle = makeDataFrameFromSymbol('GOOGL')\n",
    "dfApple = makeDataFrameFromSymbol('AAPL')\n",
    "dfMicrosoft = makeDataFrameFromSymbol('MSFT')"
   ]
  },
  {
   "cell_type": "code",
   "execution_count": 5,
   "id": "7cd44adb",
   "metadata": {},
   "outputs": [],
   "source": [
    "def makeDataFrameFromSymbols(listOfSymbols):\n",
    "    result = makeDataFrameFromSymbol(listOfSymbols[0])\n",
    "    for symbol in listOfSymbols[1:]:\n",
    "        result = pd.concat([result, makeDataFrameFromSymbol(symbol)], axis=0, ignore_index=True)\n",
    "    column_name = 'shortName'\n",
    "    column = result.pop(column_name)\n",
    "    result.insert(0, column_name, column)\n",
    "    column_name = 'symbol'\n",
    "    column = result.pop(column_name)\n",
    "    result.insert(0, column_name, column)\n",
    "    return(result)"
   ]
  },
  {
   "cell_type": "code",
   "execution_count": 6,
   "id": "83144bac",
   "metadata": {},
   "outputs": [],
   "source": [
    "dflist2 = makeDataFrameFromSymbols([\"XOM\",\"AAPL\",\"GOOGL\"])"
   ]
  },
  {
   "cell_type": "code",
   "execution_count": 7,
   "id": "f4c69cf0",
   "metadata": {},
   "outputs": [
    {
     "data": {
      "text/plain": [
       "0     413879894016\n",
       "1    2811348123648\n",
       "2    1571353526272\n",
       "Name: marketCap, dtype: int64"
      ]
     },
     "execution_count": 7,
     "metadata": {},
     "output_type": "execute_result"
    }
   ],
   "source": [
    "dflist2['marketCap']"
   ]
  },
  {
   "cell_type": "code",
   "execution_count": 8,
   "id": "a2e010b1",
   "metadata": {},
   "outputs": [],
   "source": [
    "tickers = pd.read_html(\n",
    "    'https://en.wikipedia.org/wiki/List_of_S%26P_500_companies')[0]"
   ]
  },
  {
   "cell_type": "code",
   "execution_count": 9,
   "id": "67e89bf8",
   "metadata": {},
   "outputs": [],
   "source": [
    "simbolosSp500 = tickers['Symbol']"
   ]
  },
  {
   "cell_type": "code",
   "execution_count": 10,
   "id": "71b1c845",
   "metadata": {},
   "outputs": [],
   "source": [
    "dflist = makeDataFrameFromSymbols(simbolosSp500)"
   ]
  },
  {
   "cell_type": "code",
   "execution_count": 11,
   "id": "680c9e97",
   "metadata": {},
   "outputs": [],
   "source": [
    "dflist.to_csv('informationCompanies.csv') "
   ]
  },
  {
   "cell_type": "code",
   "execution_count": 12,
   "id": "1951f331",
   "metadata": {},
   "outputs": [],
   "source": [
    "#msft = \"MSFT\"\n",
    "datamsft = yf.Ticker(\"AAPL\")\n",
    "precios = datamsft.history(start='2023-01-01', end=None).Close\n",
    "shares = datamsft.get_shares_full(start=\"2023-01-01\", end=None)"
   ]
  },
  {
   "cell_type": "code",
   "execution_count": 13,
   "id": "b6d60d49",
   "metadata": {},
   "outputs": [
    {
     "ename": "NameError",
     "evalue": "name 'infomsft' is not defined",
     "output_type": "error",
     "traceback": [
      "\u001b[1;31m---------------------------------------------------------------------------\u001b[0m",
      "\u001b[1;31mNameError\u001b[0m                                 Traceback (most recent call last)",
      "Cell \u001b[1;32mIn[13], line 1\u001b[0m\n\u001b[1;32m----> 1\u001b[0m \u001b[43minfomsft\u001b[49m[\u001b[38;5;124m'\u001b[39m\u001b[38;5;124mmarketCap\u001b[39m\u001b[38;5;124m'\u001b[39m]\n",
      "\u001b[1;31mNameError\u001b[0m: name 'infomsft' is not defined"
     ]
    }
   ],
   "source": [
    "infomsft['marketCap']"
   ]
  },
  {
   "cell_type": "code",
   "execution_count": null,
   "id": "bc48776a",
   "metadata": {},
   "outputs": [],
   "source": [
    "dfPrecios = precios.to_frame(\"precios\")\n",
    "dfShares = shares.to_frame(\"shares\")\n",
    "dfShares['Date'] = dfShares.index\n"
   ]
  }
 ],
 "metadata": {
  "kernelspec": {
   "display_name": "Python 3 (ipykernel)",
   "language": "python",
   "name": "python3"
  },
  "language_info": {
   "codemirror_mode": {
    "name": "ipython",
    "version": 3
   },
   "file_extension": ".py",
   "mimetype": "text/x-python",
   "name": "python",
   "nbconvert_exporter": "python",
   "pygments_lexer": "ipython3",
   "version": "3.9.13"
  }
 },
 "nbformat": 4,
 "nbformat_minor": 5
}
