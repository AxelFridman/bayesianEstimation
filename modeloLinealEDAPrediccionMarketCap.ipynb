{
 "cells": [
  {
   "cell_type": "code",
   "execution_count": 115,
   "id": "e229d9cc",
   "metadata": {},
   "outputs": [],
   "source": [
    "import yfinance as yf\n",
    "from datetime import datetime, timedelta\n",
    "from statsmodels.graphics.tsaplots import plot_acf, plot_pacf\n",
    "from statsmodels.tsa.arima_model import ARIMA\n",
    "from tqdm import tqdm\n",
    "import pandas as pd\n",
    "from statsmodels.tools.sm_exceptions import ValueWarning, HessianInversionWarning, ConvergenceWarning\n",
    "import warnings\n",
    "import pymc3 as pm\n",
    "import numpy as np\n",
    "import matplotlib.pyplot as plt\n",
    "import seaborn as sns\n",
    "import statsmodels.api as sm\n",
    "from statsmodels.tsa.stattools import adfuller\n",
    "from pandasgui import show"
   ]
  },
  {
   "cell_type": "code",
   "execution_count": 194,
   "id": "db420520",
   "metadata": {},
   "outputs": [],
   "source": [
    "def removeKeysFromDictionary(aStockInfoDict):\n",
    "    sacarVariables = ['companyOfficers','address1','city','state','zip','country','phone','fax','website','currency',\n",
    "                 'exchange',\n",
    "                 'quoteType',\n",
    "                 #'symbol',\n",
    "                 'underlyingSymbol',\n",
    "                 #'shortName',\n",
    "                 'longName',\n",
    "                 'firstTradeDateEpochUtc',\n",
    "                 'timeZoneFullName',\n",
    "                 'timeZoneShortName',\n",
    "                 'uuid',\n",
    "                 'messageBoardId',\n",
    "                'industry',\n",
    "                 'industryDisp',\n",
    "                 'sector',\n",
    "                 'longBusinessSummary', 'recommendationKey', 'financialCurrency']\n",
    "   \n",
    "    test_dict = {key: aStockInfoDict[key]\n",
    "             for key in aStockInfoDict if key not in sacarVariables}\n",
    " \n",
    "    #[aStockInfoDict.pop(key) for key in sacarVariables]\n",
    "    return(test_dict)\n",
    "\n",
    "    "
   ]
  },
  {
   "cell_type": "code",
   "execution_count": 74,
   "id": "5445f1c6",
   "metadata": {},
   "outputs": [],
   "source": [
    "def makeDataFrameFromSymbol(symbol):\n",
    "    data = yf.Ticker(symbol)\n",
    "    info = data.info\n",
    "    info =removeKeysFromDictionary(info)\n",
    "    dfInfo = pd.DataFrame.from_dict([info])\n",
    "    return(dfInfo)"
   ]
  },
  {
   "cell_type": "code",
   "execution_count": 144,
   "id": "01b58278",
   "metadata": {},
   "outputs": [],
   "source": [
    "dfGoogle = makeDataFrameFromSymbol('GOOGL')\n",
    "dfApple = makeDataFrameFromSymbol('AAPL')\n",
    "dfMicrosoft = makeDataFrameFromSymbol('MSFT')"
   ]
  },
  {
   "cell_type": "code",
   "execution_count": 199,
   "id": "77cbb1f2",
   "metadata": {},
   "outputs": [],
   "source": [
    "def makeDataFrameFromSymbols(listOfSymbols):\n",
    "    result = makeDataFrameFromSymbol(listOfSymbols[0])\n",
    "    for symbol in listOfSymbols[1:]:\n",
    "        result = pd.concat([result, makeDataFrameFromSymbol(symbol)], axis=0, ignore_index=True)\n",
    "    column_name = 'shortName'\n",
    "    column = result.pop(column_name)\n",
    "    result.insert(0, column_name, column)\n",
    "    column_name = 'symbol'\n",
    "    column = result.pop(column_name)\n",
    "    result.insert(0, column_name, column)\n",
    "    return(result)"
   ]
  },
  {
   "cell_type": "code",
   "execution_count": 203,
   "id": "55223318",
   "metadata": {},
   "outputs": [],
   "source": [
    "dflist2 = makeDataFrameFromSymbols([\"MSFT\",\"AAPL\",\"GOOGL\"])"
   ]
  },
  {
   "cell_type": "code",
   "execution_count": 204,
   "id": "1267d687",
   "metadata": {},
   "outputs": [
    {
     "data": {
      "text/html": [
       "<div>\n",
       "<style scoped>\n",
       "    .dataframe tbody tr th:only-of-type {\n",
       "        vertical-align: middle;\n",
       "    }\n",
       "\n",
       "    .dataframe tbody tr th {\n",
       "        vertical-align: top;\n",
       "    }\n",
       "\n",
       "    .dataframe thead th {\n",
       "        text-align: right;\n",
       "    }\n",
       "</style>\n",
       "<table border=\"1\" class=\"dataframe\">\n",
       "  <thead>\n",
       "    <tr style=\"text-align: right;\">\n",
       "      <th></th>\n",
       "      <th>symbol</th>\n",
       "      <th>shortName</th>\n",
       "      <th>fullTimeEmployees</th>\n",
       "      <th>auditRisk</th>\n",
       "      <th>boardRisk</th>\n",
       "      <th>compensationRisk</th>\n",
       "      <th>shareHolderRightsRisk</th>\n",
       "      <th>overallRisk</th>\n",
       "      <th>governanceEpochDate</th>\n",
       "      <th>compensationAsOfEpochDate</th>\n",
       "      <th>...</th>\n",
       "      <th>returnOnEquity</th>\n",
       "      <th>grossProfits</th>\n",
       "      <th>freeCashflow</th>\n",
       "      <th>operatingCashflow</th>\n",
       "      <th>earningsGrowth</th>\n",
       "      <th>revenueGrowth</th>\n",
       "      <th>grossMargins</th>\n",
       "      <th>ebitdaMargins</th>\n",
       "      <th>operatingMargins</th>\n",
       "      <th>trailingPegRatio</th>\n",
       "    </tr>\n",
       "  </thead>\n",
       "  <tbody>\n",
       "    <tr>\n",
       "      <th>0</th>\n",
       "      <td>MSFT</td>\n",
       "      <td>Microsoft Corporation</td>\n",
       "      <td>221000</td>\n",
       "      <td>6</td>\n",
       "      <td>5</td>\n",
       "      <td>2</td>\n",
       "      <td>2</td>\n",
       "      <td>2</td>\n",
       "      <td>1682899200</td>\n",
       "      <td>1672444800</td>\n",
       "      <td>...</td>\n",
       "      <td>0.38601</td>\n",
       "      <td>135620000000</td>\n",
       "      <td>42964873216</td>\n",
       "      <td>83441000448</td>\n",
       "      <td>0.104</td>\n",
       "      <td>0.071</td>\n",
       "      <td>0.68522</td>\n",
       "      <td>0.48210</td>\n",
       "      <td>0.41415</td>\n",
       "      <td>2.3007</td>\n",
       "    </tr>\n",
       "    <tr>\n",
       "      <th>1</th>\n",
       "      <td>AAPL</td>\n",
       "      <td>Apple Inc.</td>\n",
       "      <td>164000</td>\n",
       "      <td>4</td>\n",
       "      <td>1</td>\n",
       "      <td>5</td>\n",
       "      <td>1</td>\n",
       "      <td>1</td>\n",
       "      <td>1682899200</td>\n",
       "      <td>1672444800</td>\n",
       "      <td>...</td>\n",
       "      <td>1.45605</td>\n",
       "      <td>170782000000</td>\n",
       "      <td>83796623360</td>\n",
       "      <td>109583998976</td>\n",
       "      <td>0.000</td>\n",
       "      <td>-0.025</td>\n",
       "      <td>0.43181</td>\n",
       "      <td>0.32145</td>\n",
       "      <td>0.29163</td>\n",
       "      <td>2.8478</td>\n",
       "    </tr>\n",
       "    <tr>\n",
       "      <th>2</th>\n",
       "      <td>GOOGL</td>\n",
       "      <td>Alphabet Inc.</td>\n",
       "      <td>190711</td>\n",
       "      <td>6</td>\n",
       "      <td>2</td>\n",
       "      <td>8</td>\n",
       "      <td>10</td>\n",
       "      <td>10</td>\n",
       "      <td>1682899200</td>\n",
       "      <td>1672444800</td>\n",
       "      <td>...</td>\n",
       "      <td>0.22757</td>\n",
       "      <td>156633000000</td>\n",
       "      <td>55862624256</td>\n",
       "      <td>89898000384</td>\n",
       "      <td>-0.047</td>\n",
       "      <td>0.026</td>\n",
       "      <td>0.55302</td>\n",
       "      <td>0.30742</td>\n",
       "      <td>0.25355</td>\n",
       "      <td>1.1345</td>\n",
       "    </tr>\n",
       "  </tbody>\n",
       "</table>\n",
       "<p>3 rows × 105 columns</p>\n",
       "</div>"
      ],
      "text/plain": [
       "  symbol              shortName  fullTimeEmployees  auditRisk  boardRisk  \\\n",
       "0   MSFT  Microsoft Corporation             221000          6          5   \n",
       "1   AAPL             Apple Inc.             164000          4          1   \n",
       "2  GOOGL          Alphabet Inc.             190711          6          2   \n",
       "\n",
       "   compensationRisk  shareHolderRightsRisk  overallRisk  governanceEpochDate  \\\n",
       "0                 2                      2            2           1682899200   \n",
       "1                 5                      1            1           1682899200   \n",
       "2                 8                     10           10           1682899200   \n",
       "\n",
       "   compensationAsOfEpochDate  ...  returnOnEquity  grossProfits  freeCashflow  \\\n",
       "0                 1672444800  ...         0.38601  135620000000   42964873216   \n",
       "1                 1672444800  ...         1.45605  170782000000   83796623360   \n",
       "2                 1672444800  ...         0.22757  156633000000   55862624256   \n",
       "\n",
       "   operatingCashflow  earningsGrowth  revenueGrowth  grossMargins  \\\n",
       "0        83441000448           0.104          0.071       0.68522   \n",
       "1       109583998976           0.000         -0.025       0.43181   \n",
       "2        89898000384          -0.047          0.026       0.55302   \n",
       "\n",
       "   ebitdaMargins  operatingMargins  trailingPegRatio  \n",
       "0        0.48210           0.41415            2.3007  \n",
       "1        0.32145           0.29163            2.8478  \n",
       "2        0.30742           0.25355            1.1345  \n",
       "\n",
       "[3 rows x 105 columns]"
      ]
     },
     "execution_count": 204,
     "metadata": {},
     "output_type": "execute_result"
    }
   ],
   "source": [
    "dflist2"
   ]
  },
  {
   "cell_type": "code",
   "execution_count": 205,
   "id": "cc60cd41",
   "metadata": {},
   "outputs": [],
   "source": [
    "tickers = pd.read_html(\n",
    "    'https://en.wikipedia.org/wiki/List_of_S%26P_500_companies')[0]"
   ]
  },
  {
   "cell_type": "code",
   "execution_count": 206,
   "id": "1afa685c",
   "metadata": {},
   "outputs": [],
   "source": [
    "simbolosSp500 = tickers['Symbol']"
   ]
  },
  {
   "cell_type": "code",
   "execution_count": 207,
   "id": "df9521ff",
   "metadata": {},
   "outputs": [],
   "source": [
    "dflist = makeDataFrameFromSymbols(simbolosSp500)"
   ]
  },
  {
   "cell_type": "code",
   "execution_count": 209,
   "id": "0ad43a3f",
   "metadata": {},
   "outputs": [],
   "source": [
    "dflist.to_csv('informationCompanies.csv') "
   ]
  },
  {
   "cell_type": "code",
   "execution_count": 143,
   "id": "bff11f34",
   "metadata": {},
   "outputs": [
    {
     "name": "stdout",
     "output_type": "stream",
     "text": [
      "APPL: No data found for this date range, symbol may be delisted\n"
     ]
    }
   ],
   "source": [
    "#msft = \"MSFT\"\n",
    "datamsft = yf.Ticker(\"AAPL\")\n",
    "precios = datamsft.history(start='2023-01-01', end=None).Close\n",
    "shares = datamsft.get_shares_full(start=\"2023-01-01\", end=None)"
   ]
  },
  {
   "cell_type": "code",
   "execution_count": null,
   "id": "f5ebd197",
   "metadata": {},
   "outputs": [],
   "source": [
    "infomsft['marketCap']"
   ]
  },
  {
   "cell_type": "code",
   "execution_count": null,
   "id": "75d38167",
   "metadata": {},
   "outputs": [],
   "source": [
    "dfPrecios = precios.to_frame(\"precios\")\n",
    "dfShares = shares.to_frame(\"shares\")\n",
    "dfShares['Date'] = dfShares.index\n"
   ]
  }
 ],
 "metadata": {
  "kernelspec": {
   "display_name": "Python 3 (ipykernel)",
   "language": "python",
   "name": "python3"
  },
  "language_info": {
   "codemirror_mode": {
    "name": "ipython",
    "version": 3
   },
   "file_extension": ".py",
   "mimetype": "text/x-python",
   "name": "python",
   "nbconvert_exporter": "python",
   "pygments_lexer": "ipython3",
   "version": "3.9.13"
  }
 },
 "nbformat": 4,
 "nbformat_minor": 5
}
